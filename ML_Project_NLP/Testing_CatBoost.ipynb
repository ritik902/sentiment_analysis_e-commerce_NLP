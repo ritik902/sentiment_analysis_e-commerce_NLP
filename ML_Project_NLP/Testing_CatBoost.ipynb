{
 "cells": [
  {
   "cell_type": "code",
   "execution_count": 1,
   "id": "e2e1e88b-425f-47b2-8d9f-0390f0b7d520",
   "metadata": {},
   "outputs": [],
   "source": [
    "import pandas as pd\n",
    "import numpy as np"
   ]
  },
  {
   "cell_type": "code",
   "execution_count": 2,
   "id": "bafdaa2c-832c-4931-8912-ce1b7b702432",
   "metadata": {},
   "outputs": [],
   "source": [
    "df=pd.read_csv(\"flipkart_product_cleaned_final_sentiment.csv\")"
   ]
  },
  {
   "cell_type": "code",
   "execution_count": 3,
   "id": "fcae7780-a142-4bea-a27b-b9ac56663b6c",
   "metadata": {},
   "outputs": [
    {
     "data": {
      "text/html": [
       "<div>\n",
       "<style scoped>\n",
       "    .dataframe tbody tr th:only-of-type {\n",
       "        vertical-align: middle;\n",
       "    }\n",
       "\n",
       "    .dataframe tbody tr th {\n",
       "        vertical-align: top;\n",
       "    }\n",
       "\n",
       "    .dataframe thead th {\n",
       "        text-align: right;\n",
       "    }\n",
       "</style>\n",
       "<table border=\"1\" class=\"dataframe\">\n",
       "  <thead>\n",
       "    <tr style=\"text-align: right;\">\n",
       "      <th></th>\n",
       "      <th>ProductName</th>\n",
       "      <th>Price</th>\n",
       "      <th>Rate</th>\n",
       "      <th>Review</th>\n",
       "      <th>Summary</th>\n",
       "      <th>sentiment</th>\n",
       "    </tr>\n",
       "  </thead>\n",
       "  <tbody>\n",
       "    <tr>\n",
       "      <th>0</th>\n",
       "      <td>Candes 12 L Room/Personal Air Cooler?ÿ?ÿ(White...</td>\n",
       "      <td>3999</td>\n",
       "      <td>1</td>\n",
       "      <td>super !</td>\n",
       "      <td>great cooler excel air flow price amaz unbelie...</td>\n",
       "      <td>0.650000</td>\n",
       "    </tr>\n",
       "    <tr>\n",
       "      <th>1</th>\n",
       "      <td>Candes 12 L Room/Personal Air Cooler?ÿ?ÿ(White...</td>\n",
       "      <td>3999</td>\n",
       "      <td>1</td>\n",
       "      <td>awesom</td>\n",
       "      <td>best budget fit cooler nice cool</td>\n",
       "      <td>0.587500</td>\n",
       "    </tr>\n",
       "    <tr>\n",
       "      <th>2</th>\n",
       "      <td>Candes 12 L Room/Personal Air Cooler?ÿ?ÿ(White...</td>\n",
       "      <td>3999</td>\n",
       "      <td>1</td>\n",
       "      <td>fair</td>\n",
       "      <td>qualiti good power air decent</td>\n",
       "      <td>0.433333</td>\n",
       "    </tr>\n",
       "    <tr>\n",
       "      <th>3</th>\n",
       "      <td>Candes 12 L Room/Personal Air Cooler?ÿ?ÿ(White...</td>\n",
       "      <td>3999</td>\n",
       "      <td>0</td>\n",
       "      <td>useless product</td>\n",
       "      <td>bad product fan</td>\n",
       "      <td>-0.700000</td>\n",
       "    </tr>\n",
       "    <tr>\n",
       "      <th>4</th>\n",
       "      <td>Candes 12 L Room/Personal Air Cooler?ÿ?ÿ(White...</td>\n",
       "      <td>3999</td>\n",
       "      <td>1</td>\n",
       "      <td>fair</td>\n",
       "      <td>ok ok product</td>\n",
       "      <td>0.500000</td>\n",
       "    </tr>\n",
       "  </tbody>\n",
       "</table>\n",
       "</div>"
      ],
      "text/plain": [
       "                                         ProductName  Price  Rate  \\\n",
       "0  Candes 12 L Room/Personal Air Cooler?ÿ?ÿ(White...   3999     1   \n",
       "1  Candes 12 L Room/Personal Air Cooler?ÿ?ÿ(White...   3999     1   \n",
       "2  Candes 12 L Room/Personal Air Cooler?ÿ?ÿ(White...   3999     1   \n",
       "3  Candes 12 L Room/Personal Air Cooler?ÿ?ÿ(White...   3999     0   \n",
       "4  Candes 12 L Room/Personal Air Cooler?ÿ?ÿ(White...   3999     1   \n",
       "\n",
       "            Review                                            Summary  \\\n",
       "0          super !  great cooler excel air flow price amaz unbelie...   \n",
       "1           awesom                   best budget fit cooler nice cool   \n",
       "2             fair                      qualiti good power air decent   \n",
       "3  useless product                                    bad product fan   \n",
       "4             fair                                      ok ok product   \n",
       "\n",
       "   sentiment  \n",
       "0   0.650000  \n",
       "1   0.587500  \n",
       "2   0.433333  \n",
       "3  -0.700000  \n",
       "4   0.500000  "
      ]
     },
     "execution_count": 3,
     "metadata": {},
     "output_type": "execute_result"
    }
   ],
   "source": [
    "df.head()"
   ]
  },
  {
   "cell_type": "code",
   "execution_count": 4,
   "id": "2161a4ad-8b6e-464d-9c2f-5f58c9057233",
   "metadata": {},
   "outputs": [],
   "source": [
    "df.loc[df['Summary'].isna(), 'Summary'] = ''  # Replace NaN values in the Summary column with an empty string text using loc."
   ]
  },
  {
   "cell_type": "code",
   "execution_count": 5,
   "id": "4c310ecf-d7bc-4c6b-877c-64ec534cf32b",
   "metadata": {},
   "outputs": [],
   "source": [
    "from sklearn.model_selection import train_test_split\n",
    "from sklearn.feature_extraction.text import TfidfVectorizer"
   ]
  },
  {
   "cell_type": "code",
   "execution_count": 6,
   "id": "2b28a476-ddd5-42c4-b09e-1d9f34c97a2a",
   "metadata": {},
   "outputs": [],
   "source": [
    "x_train, x_test, y_train, y_test = train_test_split(df['Summary'], df['Rate'], test_size=0.2, random_state=7)"
   ]
  },
  {
   "cell_type": "code",
   "execution_count": 7,
   "id": "eddab659-1798-41f9-9d26-fc0a069316b9",
   "metadata": {},
   "outputs": [],
   "source": [
    "# Convert text data to TF-IDF features for traditional ML models\n",
    "vectorizer = TfidfVectorizer()\n",
    "x_train_tfidf = vectorizer.fit_transform(x_train)\n",
    "x_test_tfidf = vectorizer.transform(x_test)"
   ]
  },
  {
   "cell_type": "code",
   "execution_count": 11,
   "id": "c780caa3-e878-4773-8246-ee7fc23da5c7",
   "metadata": {},
   "outputs": [
    {
     "name": "stdout",
     "output_type": "stream",
     "text": [
      "0:\tlearn: 0.6063237\ttest: 0.6071910\tbest: 0.6071910 (0)\ttotal: 439ms\tremaining: 7m 18s\n",
      "100:\tlearn: 0.2145780\ttest: 0.2211443\tbest: 0.2211443 (100)\ttotal: 28.9s\tremaining: 4m 17s\n",
      "200:\tlearn: 0.1972528\ttest: 0.2067038\tbest: 0.2067038 (200)\ttotal: 57s\tremaining: 3m 46s\n",
      "300:\tlearn: 0.1886200\ttest: 0.2006595\tbest: 0.2006595 (300)\ttotal: 1m 24s\tremaining: 3m 17s\n",
      "400:\tlearn: 0.1828519\ttest: 0.1972191\tbest: 0.1972191 (400)\ttotal: 1m 52s\tremaining: 2m 48s\n",
      "500:\tlearn: 0.1786418\ttest: 0.1948596\tbest: 0.1948596 (500)\ttotal: 2m 20s\tremaining: 2m 20s\n",
      "600:\tlearn: 0.1750118\ttest: 0.1930144\tbest: 0.1930144 (600)\ttotal: 2m 49s\tremaining: 1m 52s\n",
      "700:\tlearn: 0.1721509\ttest: 0.1917919\tbest: 0.1917805 (695)\ttotal: 3m 17s\tremaining: 1m 24s\n",
      "800:\tlearn: 0.1703209\ttest: 0.1912972\tbest: 0.1912920 (798)\ttotal: 3m 45s\tremaining: 55.9s\n",
      "900:\tlearn: 0.1681569\ttest: 0.1904635\tbest: 0.1904611 (893)\ttotal: 4m 13s\tremaining: 27.8s\n",
      "999:\tlearn: 0.1662326\ttest: 0.1897930\tbest: 0.1897889 (998)\ttotal: 4m 40s\tremaining: 0us\n",
      "\n",
      "bestTest = 0.1897888972\n",
      "bestIteration = 998\n",
      "\n",
      "Shrink model to first 999 iterations.\n"
     ]
    },
    {
     "data": {
      "text/plain": [
       "<catboost.core.CatBoostClassifier at 0x26205627e50>"
      ]
     },
     "execution_count": 11,
     "metadata": {},
     "output_type": "execute_result"
    }
   ],
   "source": [
    "from catboost import CatBoostClassifier, Pool\n",
    "\n",
    "# Initialize CatBoost Classifier\n",
    "model = CatBoostClassifier(\n",
    "    iterations=1000,  # number of trees\n",
    "    depth=6,          # tree depth\n",
    "    learning_rate=0.1,\n",
    "    loss_function='Logloss',  # binary classification loss\n",
    "    verbose=100\n",
    ")\n",
    "\n",
    "# Training\n",
    "model.fit(x_train_tfidf, y_train, eval_set=(x_test_tfidf, y_test), early_stopping_rounds=100)"
   ]
  },
  {
   "cell_type": "code",
   "execution_count": 12,
   "id": "853bd5b6-05c8-47b0-b6a7-097a002bfb07",
   "metadata": {},
   "outputs": [
    {
     "name": "stdout",
     "output_type": "stream",
     "text": [
      "Accuracy: 0.9290367542344635\n",
      "              precision    recall  f1-score   support\n",
      "\n",
      "           0       0.85      0.66      0.74      5134\n",
      "           1       0.94      0.98      0.96     27869\n",
      "\n",
      "    accuracy                           0.93     33003\n",
      "   macro avg       0.89      0.82      0.85     33003\n",
      "weighted avg       0.93      0.93      0.93     33003\n",
      "\n",
      "ROC AUC Score: 0.9472528919352957\n"
     ]
    }
   ],
   "source": [
    "from sklearn.metrics import accuracy_score, classification_report, confusion_matrix, roc_auc_score\n",
    "\n",
    "# Predict the labels for the test set\n",
    "y_pred = model.predict(x_test_tfidf)\n",
    "\n",
    "# Calculate accuracy\n",
    "accuracy=accuracy_score(y_test, y_pred)\n",
    "print(f'Accuracy: {accuracy}')\n",
    "\n",
    "# Print classification report\n",
    "print(classification_report(y_test, y_pred))\n",
    "\n",
    "# ROC AUC score\n",
    "y_pred_proba = model.predict_proba(x_test_tfidf)[:, 1]\n",
    "roc_auc = roc_auc_score(y_test, y_pred_proba)\n",
    "print(f\"ROC AUC Score: {roc_auc}\")"
   ]
  },
  {
   "cell_type": "code",
   "execution_count": 13,
   "id": "3e0b7e2c-ec27-4729-8a82-a005ad051479",
   "metadata": {},
   "outputs": [
    {
     "name": "stdout",
     "output_type": "stream",
     "text": [
      "[1 1 1 ... 1 1 0]\n"
     ]
    }
   ],
   "source": [
    "print(y_pred)"
   ]
  },
  {
   "cell_type": "code",
   "execution_count": 14,
   "id": "2e9f3840-7e23-4983-94be-9115de92a166",
   "metadata": {},
   "outputs": [],
   "source": [
    "import matplotlib.pyplot as plt\n",
    "import seaborn as sns"
   ]
  },
  {
   "cell_type": "code",
   "execution_count": 16,
   "id": "ab580494-0b75-4c2e-8648-4fb8877cd38d",
   "metadata": {},
   "outputs": [
    {
     "name": "stdout",
     "output_type": "stream",
     "text": [
      "[[ 3397  1737]\n",
      " [  605 27264]]\n"
     ]
    }
   ],
   "source": [
    "# Predict on the test data\n",
    "y_pred = model.predict(x_test_tfidf)\n",
    "\n",
    "# Confusion Matrix\n",
    "conf_matrix = confusion_matrix(y_test, y_pred)\n",
    "print(conf_matrix)"
   ]
  },
  {
   "cell_type": "code",
   "execution_count": 17,
   "id": "651786c1-7bb2-4a19-bd21-b329126adfe8",
   "metadata": {},
   "outputs": [
    {
     "name": "stdout",
     "output_type": "stream",
     "text": [
      "Training Class Distribution:\n",
      " 1    0.851018\n",
      "0    0.148982\n",
      "Name: Rate, dtype: float64\n",
      "Test Class Distribution:\n",
      " 1    0.844438\n",
      "0    0.155562\n",
      "Name: Rate, dtype: float64\n"
     ]
    }
   ],
   "source": [
    "# Check class distribution in training data\n",
    "train_class_distribution = y_train.value_counts(normalize=True)\n",
    "print(\"Training Class Distribution:\\n\", train_class_distribution)\n",
    "\n",
    "# Check class distribution in test data\n",
    "test_class_distribution = y_test.value_counts(normalize=True)\n",
    "print(\"Test Class Distribution:\\n\", test_class_distribution)"
   ]
  },
  {
   "cell_type": "code",
   "execution_count": null,
   "id": "5e160445-ef90-4d71-98a7-b93775fa2585",
   "metadata": {},
   "outputs": [],
   "source": []
  }
 ],
 "metadata": {
  "kernelspec": {
   "display_name": "Python 3 (ipykernel)",
   "language": "python",
   "name": "python3"
  },
  "language_info": {
   "codemirror_mode": {
    "name": "ipython",
    "version": 3
   },
   "file_extension": ".py",
   "mimetype": "text/x-python",
   "name": "python",
   "nbconvert_exporter": "python",
   "pygments_lexer": "ipython3",
   "version": "3.11.7"
  }
 },
 "nbformat": 4,
 "nbformat_minor": 5
}
