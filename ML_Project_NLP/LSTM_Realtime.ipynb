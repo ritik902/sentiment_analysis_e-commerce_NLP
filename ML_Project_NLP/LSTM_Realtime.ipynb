{
 "cells": [
  {
   "cell_type": "code",
   "execution_count": 3,
   "id": "e2e1e88b-425f-47b2-8d9f-0390f0b7d520",
   "metadata": {},
   "outputs": [],
   "source": [
    "import pandas as pd\n",
    "import numpy as np"
   ]
  },
  {
   "cell_type": "code",
   "execution_count": 4,
   "id": "bafdaa2c-832c-4931-8912-ce1b7b702432",
   "metadata": {},
   "outputs": [],
   "source": [
    "df=pd.read_csv(\"flipkart_product_cleaned_final_sentiment.csv\")"
   ]
  },
  {
   "cell_type": "code",
   "execution_count": 5,
   "id": "fcae7780-a142-4bea-a27b-b9ac56663b6c",
   "metadata": {},
   "outputs": [
    {
     "data": {
      "text/html": [
       "<div>\n",
       "<style scoped>\n",
       "    .dataframe tbody tr th:only-of-type {\n",
       "        vertical-align: middle;\n",
       "    }\n",
       "\n",
       "    .dataframe tbody tr th {\n",
       "        vertical-align: top;\n",
       "    }\n",
       "\n",
       "    .dataframe thead th {\n",
       "        text-align: right;\n",
       "    }\n",
       "</style>\n",
       "<table border=\"1\" class=\"dataframe\">\n",
       "  <thead>\n",
       "    <tr style=\"text-align: right;\">\n",
       "      <th></th>\n",
       "      <th>ProductName</th>\n",
       "      <th>Price</th>\n",
       "      <th>Rate</th>\n",
       "      <th>Review</th>\n",
       "      <th>Summary</th>\n",
       "      <th>sentiment</th>\n",
       "    </tr>\n",
       "  </thead>\n",
       "  <tbody>\n",
       "    <tr>\n",
       "      <th>0</th>\n",
       "      <td>Candes 12 L Room/Personal Air Cooler?ÿ?ÿ(White...</td>\n",
       "      <td>3999</td>\n",
       "      <td>1</td>\n",
       "      <td>super !</td>\n",
       "      <td>great cooler excel air flow price amaz unbelie...</td>\n",
       "      <td>0.650000</td>\n",
       "    </tr>\n",
       "    <tr>\n",
       "      <th>1</th>\n",
       "      <td>Candes 12 L Room/Personal Air Cooler?ÿ?ÿ(White...</td>\n",
       "      <td>3999</td>\n",
       "      <td>1</td>\n",
       "      <td>awesom</td>\n",
       "      <td>best budget fit cooler nice cool</td>\n",
       "      <td>0.587500</td>\n",
       "    </tr>\n",
       "    <tr>\n",
       "      <th>2</th>\n",
       "      <td>Candes 12 L Room/Personal Air Cooler?ÿ?ÿ(White...</td>\n",
       "      <td>3999</td>\n",
       "      <td>1</td>\n",
       "      <td>fair</td>\n",
       "      <td>qualiti good power air decent</td>\n",
       "      <td>0.433333</td>\n",
       "    </tr>\n",
       "    <tr>\n",
       "      <th>3</th>\n",
       "      <td>Candes 12 L Room/Personal Air Cooler?ÿ?ÿ(White...</td>\n",
       "      <td>3999</td>\n",
       "      <td>0</td>\n",
       "      <td>useless product</td>\n",
       "      <td>bad product fan</td>\n",
       "      <td>-0.700000</td>\n",
       "    </tr>\n",
       "    <tr>\n",
       "      <th>4</th>\n",
       "      <td>Candes 12 L Room/Personal Air Cooler?ÿ?ÿ(White...</td>\n",
       "      <td>3999</td>\n",
       "      <td>1</td>\n",
       "      <td>fair</td>\n",
       "      <td>ok ok product</td>\n",
       "      <td>0.500000</td>\n",
       "    </tr>\n",
       "  </tbody>\n",
       "</table>\n",
       "</div>"
      ],
      "text/plain": [
       "                                         ProductName  Price  Rate  \\\n",
       "0  Candes 12 L Room/Personal Air Cooler?ÿ?ÿ(White...   3999     1   \n",
       "1  Candes 12 L Room/Personal Air Cooler?ÿ?ÿ(White...   3999     1   \n",
       "2  Candes 12 L Room/Personal Air Cooler?ÿ?ÿ(White...   3999     1   \n",
       "3  Candes 12 L Room/Personal Air Cooler?ÿ?ÿ(White...   3999     0   \n",
       "4  Candes 12 L Room/Personal Air Cooler?ÿ?ÿ(White...   3999     1   \n",
       "\n",
       "            Review                                            Summary  \\\n",
       "0          super !  great cooler excel air flow price amaz unbelie...   \n",
       "1           awesom                   best budget fit cooler nice cool   \n",
       "2             fair                      qualiti good power air decent   \n",
       "3  useless product                                    bad product fan   \n",
       "4             fair                                      ok ok product   \n",
       "\n",
       "   sentiment  \n",
       "0   0.650000  \n",
       "1   0.587500  \n",
       "2   0.433333  \n",
       "3  -0.700000  \n",
       "4   0.500000  "
      ]
     },
     "execution_count": 5,
     "metadata": {},
     "output_type": "execute_result"
    }
   ],
   "source": [
    "df.head()"
   ]
  },
  {
   "cell_type": "code",
   "execution_count": 6,
   "id": "9003f1e4-b05b-4dba-86c8-4b75dc87f76c",
   "metadata": {},
   "outputs": [],
   "source": [
    "from sklearn.model_selection import train_test_split\n",
    "from sklearn.metrics import accuracy_score, classification_report, confusion_matrix\n",
    "import tensorflow as tf\n",
    "from tensorflow.keras.optimizers import Adam\n",
    "from tensorflow.keras.preprocessing.text import Tokenizer\n",
    "from tensorflow.keras.preprocessing.sequence import pad_sequences\n",
    "from tensorflow.keras.models import Sequential\n",
    "from tensorflow.keras.layers import Embedding, LSTM, Dense, Dropout"
   ]
  },
  {
   "cell_type": "code",
   "execution_count": 7,
   "id": "3d223c99-b05f-4b73-8844-cc6379d0730a",
   "metadata": {},
   "outputs": [],
   "source": [
    "df['Summary'] = df['Summary'].fillna('')"
   ]
  },
  {
   "cell_type": "code",
   "execution_count": 8,
   "id": "cbb424b9-a6ea-4e0b-874a-53103440096e",
   "metadata": {},
   "outputs": [],
   "source": [
    "x_train, x_test, y_train, y_test = train_test_split(df['Summary'], df['Rate'], test_size=0.2, random_state=7)"
   ]
  },
  {
   "cell_type": "code",
   "execution_count": 9,
   "id": "6fc048c3-e16b-40c4-9973-1172625861d5",
   "metadata": {},
   "outputs": [],
   "source": [
    "# Tokenize and pad sequences for LSTM\n",
    "max_words = 5000\n",
    "max_len = 100"
   ]
  },
  {
   "cell_type": "code",
   "execution_count": 10,
   "id": "4c9bc803-c3ef-44eb-bf77-2c9d73e0ba4c",
   "metadata": {},
   "outputs": [],
   "source": [
    "tokenizer = Tokenizer(num_words=max_words)  # Tokenizer(num_words=max_words): Creates a tokenizer object that keeps the top max_words (5000) most frequent words in the training data.\n",
    "tokenizer.fit_on_texts(x_train)\n",
    "x_train_seq = tokenizer.texts_to_sequences(x_train)\n",
    "x_test_seq = tokenizer.texts_to_sequences(x_test)\n",
    "x_train_pad = pad_sequences(x_train_seq, maxlen=max_len)  # pad_sequences(x_train_seq, maxlen=max_len): Pads each sequence to ensure that all sequences in x_train_seq have the same length (max_len = 100). If a sequence is shorter than max_len, it is padded with zeros.\n",
    "x_test_pad = pad_sequences(x_test_seq, maxlen=max_len)"
   ]
  },
  {
   "cell_type": "code",
   "execution_count": 11,
   "id": "ea12f23b-df86-408a-a82b-22c18ab3446f",
   "metadata": {},
   "outputs": [
    {
     "name": "stderr",
     "output_type": "stream",
     "text": [
      "C:\\Users\\ritik\\anaconda3\\Lib\\site-packages\\keras\\src\\layers\\core\\embedding.py:90: UserWarning: Argument `input_length` is deprecated. Just remove it.\n",
      "  warnings.warn(\n"
     ]
    }
   ],
   "source": [
    "# Build the LSTM model\n",
    "lstm_model = Sequential([\n",
    "    Embedding(input_dim=max_words, output_dim=128, input_length=max_len),\n",
    "    LSTM(64, return_sequences=True),Dropout(0.5), # LSTM(64, return_sequences=True): First LSTM layer with 64 units. return_sequences=True means that it returns the full sequence of outputs for each input (required for stacking another LSTM layer on top).\n",
    "                                                  # LSTM(64): Second LSTM layer with 64 units. This time return_sequences is not specified, so it returns only the last output in the output sequence.\n",
    "    LSTM(64),Dropout(0.5), # Dropout(0.5): Applies dropout to the layer's output. Dropout rate is 0.5, meaning 50% of the neurons will be randomly set to zero during training to prevent overfitting.\n",
    "    Dense(1, activation='sigmoid') # Dense(1, activation='sigmoid'): A dense (fully connected) layer with a single neuron. The sigmoid activation function outputs a value between 0 and 1, suitable for binary classification.\n",
    "])\n",
    "\n",
    "# Define the optimizer with a specified learning rate\n",
    "optimizer = Adam(learning_rate=0.001)\n",
    "\n",
    "lstm_model.compile(optimizer=optimizer, loss='binary_crossentropy', metrics=['accuracy'])"
   ]
  },
  {
   "cell_type": "code",
   "execution_count": 12,
   "id": "e2ccb929-294e-4ea0-a1ff-ae53c2cc5cd7",
   "metadata": {},
   "outputs": [
    {
     "name": "stdout",
     "output_type": "stream",
     "text": [
      "Epoch 1/3\n",
      "\u001b[1m3301/3301\u001b[0m \u001b[32m━━━━━━━━━━━━━━━━━━━━\u001b[0m\u001b[37m\u001b[0m \u001b[1m384s\u001b[0m 114ms/step - accuracy: 0.9124 - loss: 0.2473 - val_accuracy: 0.9348 - val_loss: 0.1771\n",
      "Epoch 2/3\n",
      "\u001b[1m3301/3301\u001b[0m \u001b[32m━━━━━━━━━━━━━━━━━━━━\u001b[0m\u001b[37m\u001b[0m \u001b[1m366s\u001b[0m 111ms/step - accuracy: 0.9412 - loss: 0.1682 - val_accuracy: 0.9361 - val_loss: 0.1781\n",
      "Epoch 3/3\n",
      "\u001b[1m3301/3301\u001b[0m \u001b[32m━━━━━━━━━━━━━━━━━━━━\u001b[0m\u001b[37m\u001b[0m \u001b[1m374s\u001b[0m 113ms/step - accuracy: 0.9447 - loss: 0.1566 - val_accuracy: 0.9344 - val_loss: 0.1798\n"
     ]
    },
    {
     "data": {
      "text/plain": [
       "<keras.src.callbacks.history.History at 0x18693c2be90>"
      ]
     },
     "execution_count": 12,
     "metadata": {},
     "output_type": "execute_result"
    }
   ],
   "source": [
    "# Train the LSTM model\n",
    "lstm_model.fit(x_train_pad, y_train, epochs=3, batch_size=32, validation_split=0.2)"
   ]
  },
  {
   "cell_type": "code",
   "execution_count": 11,
   "id": "e32e961c-1490-40b3-a44f-142ab939f834",
   "metadata": {},
   "outputs": [
    {
     "name": "stdout",
     "output_type": "stream",
     "text": [
      "\u001b[1m1032/1032\u001b[0m \u001b[32m━━━━━━━━━━━━━━━━━━━━\u001b[0m\u001b[37m\u001b[0m \u001b[1m53s\u001b[0m 51ms/step\n",
      "LSTM Accuracy: 0.9309153713298791\n",
      "Classification Report:\n",
      "              precision    recall  f1-score   support\n",
      "\n",
      "           0       0.81      0.72      0.76      5134\n",
      "           1       0.95      0.97      0.96     27869\n",
      "\n",
      "    accuracy                           0.93     33003\n",
      "   macro avg       0.88      0.85      0.86     33003\n",
      "weighted avg       0.93      0.93      0.93     33003\n",
      "\n",
      "Confusion Matrix:\n",
      "[[ 3701  1433]\n",
      " [  847 27022]]\n"
     ]
    }
   ],
   "source": [
    "# Evaluate the LSTM model\n",
    "lstm_y_pred = (lstm_model.predict(x_test_pad) > 0.5).astype(\"int32\")\n",
    "print(f'LSTM Accuracy: {accuracy_score(y_test, lstm_y_pred)}')\n",
    "print(f'Classification Report:\\n{classification_report(y_test, lstm_y_pred)}')\n",
    "print(f'Confusion Matrix:\\n{confusion_matrix(y_test, lstm_y_pred)}')"
   ]
  },
  {
   "cell_type": "code",
   "execution_count": null,
   "id": "a44a3a26-202e-4407-aede-bc572c69f5de",
   "metadata": {},
   "outputs": [],
   "source": [
    "# import joblib\n",
    "# import pickle\n",
    "# Save the model\n",
    "# joblib.dump(lstm_model, 'lstm_model.h5') \n",
    "# h5 file --> The full form of an H5 file is Hierarchical Data Format version 5, \n",
    "# commonly abbreviated as HDF5. This file format is designed to store and organize large amounts of data, \n",
    "# particularly in complex hierarchical structures. HDF5 is widely used in various fields such as scientific \n",
    "# computing, data analysis, and machine learning due to its ability to efficiently manage large datasets \n",
    "# and support complex data relationships.\n",
    "\n",
    "# Save the tokenizer to a file\n",
    "# with open('tokenizer.pickle', 'wb') as handle:\n",
    "#     pickle.dump(tokenizer, handle, protocol=pickle.HIGHEST_PROTOCOL)"
   ]
  },
  {
   "cell_type": "code",
   "execution_count": 14,
   "id": "5a530e26-08bf-4e86-a782-0cd96c5ae321",
   "metadata": {},
   "outputs": [],
   "source": [
    "import pickle\n",
    "lstm_model.save('lstm_model.keras')\n",
    "# Save the tokenizer to a file\n",
    "with open('tokenizer.pickle', 'wb') as handle:\n",
    "    pickle.dump(tokenizer, handle, protocol=pickle.HIGHEST_PROTOCOL)"
   ]
  },
  {
   "cell_type": "markdown",
   "id": "31ab9290-c804-423b-871e-dc778cf7feba",
   "metadata": {},
   "source": [
    "now write streamlit_lstm.py file \n",
    "and on cmd run that --> streamlit run streamlit_lstm.py"
   ]
  },
  {
   "cell_type": "code",
   "execution_count": null,
   "id": "13ea39e9-ec8b-4e96-a7fc-37a4ed289bfa",
   "metadata": {},
   "outputs": [],
   "source": []
  }
 ],
 "metadata": {
  "kernelspec": {
   "display_name": "Python 3 (ipykernel)",
   "language": "python",
   "name": "python3"
  },
  "language_info": {
   "codemirror_mode": {
    "name": "ipython",
    "version": 3
   },
   "file_extension": ".py",
   "mimetype": "text/x-python",
   "name": "python",
   "nbconvert_exporter": "python",
   "pygments_lexer": "ipython3",
   "version": "3.11.7"
  }
 },
 "nbformat": 4,
 "nbformat_minor": 5
}
