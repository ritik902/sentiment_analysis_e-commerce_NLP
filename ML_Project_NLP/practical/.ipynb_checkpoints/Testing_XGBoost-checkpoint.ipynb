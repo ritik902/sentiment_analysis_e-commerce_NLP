{
 "cells": [
  {
   "cell_type": "code",
   "execution_count": 1,
   "id": "e2e1e88b-425f-47b2-8d9f-0390f0b7d520",
   "metadata": {},
   "outputs": [],
   "source": [
    "import pandas as pd\n",
    "import numpy as np"
   ]
  },
  {
   "cell_type": "code",
   "execution_count": 2,
   "id": "bafdaa2c-832c-4931-8912-ce1b7b702432",
   "metadata": {},
   "outputs": [],
   "source": [
    "df=pd.read_csv(\"flipkart_product_cleaned_final_sentiment.csv\")"
   ]
  },
  {
   "cell_type": "code",
   "execution_count": 3,
   "id": "fcae7780-a142-4bea-a27b-b9ac56663b6c",
   "metadata": {},
   "outputs": [
    {
     "data": {
      "text/html": [
       "<div>\n",
       "<style scoped>\n",
       "    .dataframe tbody tr th:only-of-type {\n",
       "        vertical-align: middle;\n",
       "    }\n",
       "\n",
       "    .dataframe tbody tr th {\n",
       "        vertical-align: top;\n",
       "    }\n",
       "\n",
       "    .dataframe thead th {\n",
       "        text-align: right;\n",
       "    }\n",
       "</style>\n",
       "<table border=\"1\" class=\"dataframe\">\n",
       "  <thead>\n",
       "    <tr style=\"text-align: right;\">\n",
       "      <th></th>\n",
       "      <th>ProductName</th>\n",
       "      <th>Price</th>\n",
       "      <th>Rate</th>\n",
       "      <th>Review</th>\n",
       "      <th>Summary</th>\n",
       "      <th>sentiment</th>\n",
       "    </tr>\n",
       "  </thead>\n",
       "  <tbody>\n",
       "    <tr>\n",
       "      <th>0</th>\n",
       "      <td>Candes 12 L Room/Personal Air Cooler?ÿ?ÿ(White...</td>\n",
       "      <td>3999</td>\n",
       "      <td>1</td>\n",
       "      <td>super !</td>\n",
       "      <td>great cooler excel air flow price amaz unbelie...</td>\n",
       "      <td>0.650000</td>\n",
       "    </tr>\n",
       "    <tr>\n",
       "      <th>1</th>\n",
       "      <td>Candes 12 L Room/Personal Air Cooler?ÿ?ÿ(White...</td>\n",
       "      <td>3999</td>\n",
       "      <td>1</td>\n",
       "      <td>awesom</td>\n",
       "      <td>best budget fit cooler nice cool</td>\n",
       "      <td>0.587500</td>\n",
       "    </tr>\n",
       "    <tr>\n",
       "      <th>2</th>\n",
       "      <td>Candes 12 L Room/Personal Air Cooler?ÿ?ÿ(White...</td>\n",
       "      <td>3999</td>\n",
       "      <td>1</td>\n",
       "      <td>fair</td>\n",
       "      <td>qualiti good power air decent</td>\n",
       "      <td>0.433333</td>\n",
       "    </tr>\n",
       "    <tr>\n",
       "      <th>3</th>\n",
       "      <td>Candes 12 L Room/Personal Air Cooler?ÿ?ÿ(White...</td>\n",
       "      <td>3999</td>\n",
       "      <td>0</td>\n",
       "      <td>useless product</td>\n",
       "      <td>bad product fan</td>\n",
       "      <td>-0.700000</td>\n",
       "    </tr>\n",
       "    <tr>\n",
       "      <th>4</th>\n",
       "      <td>Candes 12 L Room/Personal Air Cooler?ÿ?ÿ(White...</td>\n",
       "      <td>3999</td>\n",
       "      <td>1</td>\n",
       "      <td>fair</td>\n",
       "      <td>ok ok product</td>\n",
       "      <td>0.500000</td>\n",
       "    </tr>\n",
       "  </tbody>\n",
       "</table>\n",
       "</div>"
      ],
      "text/plain": [
       "                                         ProductName  Price  Rate  \\\n",
       "0  Candes 12 L Room/Personal Air Cooler?ÿ?ÿ(White...   3999     1   \n",
       "1  Candes 12 L Room/Personal Air Cooler?ÿ?ÿ(White...   3999     1   \n",
       "2  Candes 12 L Room/Personal Air Cooler?ÿ?ÿ(White...   3999     1   \n",
       "3  Candes 12 L Room/Personal Air Cooler?ÿ?ÿ(White...   3999     0   \n",
       "4  Candes 12 L Room/Personal Air Cooler?ÿ?ÿ(White...   3999     1   \n",
       "\n",
       "            Review                                            Summary  \\\n",
       "0          super !  great cooler excel air flow price amaz unbelie...   \n",
       "1           awesom                   best budget fit cooler nice cool   \n",
       "2             fair                      qualiti good power air decent   \n",
       "3  useless product                                    bad product fan   \n",
       "4             fair                                      ok ok product   \n",
       "\n",
       "   sentiment  \n",
       "0   0.650000  \n",
       "1   0.587500  \n",
       "2   0.433333  \n",
       "3  -0.700000  \n",
       "4   0.500000  "
      ]
     },
     "execution_count": 3,
     "metadata": {},
     "output_type": "execute_result"
    }
   ],
   "source": [
    "df.head()"
   ]
  },
  {
   "cell_type": "code",
   "execution_count": 5,
   "id": "fad04602-c504-459b-99c2-10275cfcab1a",
   "metadata": {},
   "outputs": [],
   "source": [
    "from gensim.models import Word2Vec"
   ]
  },
  {
   "cell_type": "code",
   "execution_count": 6,
   "id": "2161a4ad-8b6e-464d-9c2f-5f58c9057233",
   "metadata": {},
   "outputs": [],
   "source": [
    "df.loc[df['Summary'].isna(), 'Summary'] = ''  # Replace NaN values in the Summary column with an empty string text using loc."
   ]
  },
  {
   "cell_type": "code",
   "execution_count": 7,
   "id": "4c310ecf-d7bc-4c6b-877c-64ec534cf32b",
   "metadata": {},
   "outputs": [],
   "source": [
    "w2v=Word2Vec(sentences=df['Summary'], vector_size=100, window=5, min_count=1, workers=4)  # Train a Word2Vec model using the cleaned summary tokens."
   ]
  },
  {
   "cell_type": "code",
   "execution_count": 8,
   "id": "2b28a476-ddd5-42c4-b09e-1d9f34c97a2a",
   "metadata": {},
   "outputs": [],
   "source": [
    "# Generate feature vectors for each review by averaging the Word2Vec vectors of the words in the review.\n",
    "def get_vector(tokens, model):\n",
    "    # Get vectors for each token\n",
    "    vectors=[model.wv[word] for word in tokens if word in model.wv]\n",
    "    if vectors:\n",
    "        # Calculate the mean of the vectors\n",
    "        return np.mean(vectors, axis=0)\n",
    "    else:\n",
    "        # Return a zero vector if there are no vectors for the words\n",
    "        return np.zeros(model.vector_size)\n",
    "\n",
    "# Generate feature vectors for all reviews\n",
    "df['feature_vector']=df['Summary'].apply(lambda x: get_vector(x, w2v))\n",
    "\n",
    "# Convert the list of arrays into a 2D array\n",
    "x=np.vstack(df['feature_vector'])\n",
    "\n",
    "# Use the 'Rate' column as the target variable\n",
    "y=df['Rate']"
   ]
  },
  {
   "cell_type": "code",
   "execution_count": 9,
   "id": "eddab659-1798-41f9-9d26-fc0a069316b9",
   "metadata": {},
   "outputs": [],
   "source": [
    "# Split the data\n",
    "from sklearn.model_selection import train_test_split\n",
    "x_train, x_test, y_train, y_test=train_test_split(x, y, test_size=0.2, random_state=7)"
   ]
  },
  {
   "cell_type": "code",
   "execution_count": 10,
   "id": "c780caa3-e878-4773-8246-ee7fc23da5c7",
   "metadata": {},
   "outputs": [
    {
     "data": {
      "text/html": [
       "<style>#sk-container-id-1 {color: black;background-color: white;}#sk-container-id-1 pre{padding: 0;}#sk-container-id-1 div.sk-toggleable {background-color: white;}#sk-container-id-1 label.sk-toggleable__label {cursor: pointer;display: block;width: 100%;margin-bottom: 0;padding: 0.3em;box-sizing: border-box;text-align: center;}#sk-container-id-1 label.sk-toggleable__label-arrow:before {content: \"▸\";float: left;margin-right: 0.25em;color: #696969;}#sk-container-id-1 label.sk-toggleable__label-arrow:hover:before {color: black;}#sk-container-id-1 div.sk-estimator:hover label.sk-toggleable__label-arrow:before {color: black;}#sk-container-id-1 div.sk-toggleable__content {max-height: 0;max-width: 0;overflow: hidden;text-align: left;background-color: #f0f8ff;}#sk-container-id-1 div.sk-toggleable__content pre {margin: 0.2em;color: black;border-radius: 0.25em;background-color: #f0f8ff;}#sk-container-id-1 input.sk-toggleable__control:checked~div.sk-toggleable__content {max-height: 200px;max-width: 100%;overflow: auto;}#sk-container-id-1 input.sk-toggleable__control:checked~label.sk-toggleable__label-arrow:before {content: \"▾\";}#sk-container-id-1 div.sk-estimator input.sk-toggleable__control:checked~label.sk-toggleable__label {background-color: #d4ebff;}#sk-container-id-1 div.sk-label input.sk-toggleable__control:checked~label.sk-toggleable__label {background-color: #d4ebff;}#sk-container-id-1 input.sk-hidden--visually {border: 0;clip: rect(1px 1px 1px 1px);clip: rect(1px, 1px, 1px, 1px);height: 1px;margin: -1px;overflow: hidden;padding: 0;position: absolute;width: 1px;}#sk-container-id-1 div.sk-estimator {font-family: monospace;background-color: #f0f8ff;border: 1px dotted black;border-radius: 0.25em;box-sizing: border-box;margin-bottom: 0.5em;}#sk-container-id-1 div.sk-estimator:hover {background-color: #d4ebff;}#sk-container-id-1 div.sk-parallel-item::after {content: \"\";width: 100%;border-bottom: 1px solid gray;flex-grow: 1;}#sk-container-id-1 div.sk-label:hover label.sk-toggleable__label {background-color: #d4ebff;}#sk-container-id-1 div.sk-serial::before {content: \"\";position: absolute;border-left: 1px solid gray;box-sizing: border-box;top: 0;bottom: 0;left: 50%;z-index: 0;}#sk-container-id-1 div.sk-serial {display: flex;flex-direction: column;align-items: center;background-color: white;padding-right: 0.2em;padding-left: 0.2em;position: relative;}#sk-container-id-1 div.sk-item {position: relative;z-index: 1;}#sk-container-id-1 div.sk-parallel {display: flex;align-items: stretch;justify-content: center;background-color: white;position: relative;}#sk-container-id-1 div.sk-item::before, #sk-container-id-1 div.sk-parallel-item::before {content: \"\";position: absolute;border-left: 1px solid gray;box-sizing: border-box;top: 0;bottom: 0;left: 50%;z-index: -1;}#sk-container-id-1 div.sk-parallel-item {display: flex;flex-direction: column;z-index: 1;position: relative;background-color: white;}#sk-container-id-1 div.sk-parallel-item:first-child::after {align-self: flex-end;width: 50%;}#sk-container-id-1 div.sk-parallel-item:last-child::after {align-self: flex-start;width: 50%;}#sk-container-id-1 div.sk-parallel-item:only-child::after {width: 0;}#sk-container-id-1 div.sk-dashed-wrapped {border: 1px dashed gray;margin: 0 0.4em 0.5em 0.4em;box-sizing: border-box;padding-bottom: 0.4em;background-color: white;}#sk-container-id-1 div.sk-label label {font-family: monospace;font-weight: bold;display: inline-block;line-height: 1.2em;}#sk-container-id-1 div.sk-label-container {text-align: center;}#sk-container-id-1 div.sk-container {/* jupyter's `normalize.less` sets `[hidden] { display: none; }` but bootstrap.min.css set `[hidden] { display: none !important; }` so we also need the `!important` here to be able to override the default hidden behavior on the sphinx rendered scikit-learn.org. See: https://github.com/scikit-learn/scikit-learn/issues/21755 */display: inline-block !important;position: relative;}#sk-container-id-1 div.sk-text-repr-fallback {display: none;}</style><div id=\"sk-container-id-1\" class=\"sk-top-container\"><div class=\"sk-text-repr-fallback\"><pre>XGBClassifier(alpha=0, base_score=None, booster=&#x27;gbtree&#x27;, callbacks=None,\n",
       "              colsample_bylevel=None, colsample_bynode=None,\n",
       "              colsample_bytree=None, device=None, early_stopping_rounds=None,\n",
       "              enable_categorical=False, eval_metric=&#x27;auc&#x27;, feature_types=None,\n",
       "              gamma=None, grow_policy=None, importance_type=None,\n",
       "              interaction_constraints=None, learning_rate=0.1, max_bin=None,\n",
       "              max_cat_threshold=None, max_cat_to_onehot=None,\n",
       "              max_delta_step=None, max_depth=None, max_leaves=None,\n",
       "              min_child_weight=None, missing=nan, monotone_constraints=None,\n",
       "              multi_strategy=None, n_estimators=None, n_jobs=None, nthread=4, ...)</pre><b>In a Jupyter environment, please rerun this cell to show the HTML representation or trust the notebook. <br />On GitHub, the HTML representation is unable to render, please try loading this page with nbviewer.org.</b></div><div class=\"sk-container\" hidden><div class=\"sk-item\"><div class=\"sk-estimator sk-toggleable\"><input class=\"sk-toggleable__control sk-hidden--visually\" id=\"sk-estimator-id-1\" type=\"checkbox\" checked><label for=\"sk-estimator-id-1\" class=\"sk-toggleable__label sk-toggleable__label-arrow\">XGBClassifier</label><div class=\"sk-toggleable__content\"><pre>XGBClassifier(alpha=0, base_score=None, booster=&#x27;gbtree&#x27;, callbacks=None,\n",
       "              colsample_bylevel=None, colsample_bynode=None,\n",
       "              colsample_bytree=None, device=None, early_stopping_rounds=None,\n",
       "              enable_categorical=False, eval_metric=&#x27;auc&#x27;, feature_types=None,\n",
       "              gamma=None, grow_policy=None, importance_type=None,\n",
       "              interaction_constraints=None, learning_rate=0.1, max_bin=None,\n",
       "              max_cat_threshold=None, max_cat_to_onehot=None,\n",
       "              max_delta_step=None, max_depth=None, max_leaves=None,\n",
       "              min_child_weight=None, missing=nan, monotone_constraints=None,\n",
       "              multi_strategy=None, n_estimators=None, n_jobs=None, nthread=4, ...)</pre></div></div></div></div></div>"
      ],
      "text/plain": [
       "XGBClassifier(alpha=0, base_score=None, booster='gbtree', callbacks=None,\n",
       "              colsample_bylevel=None, colsample_bynode=None,\n",
       "              colsample_bytree=None, device=None, early_stopping_rounds=None,\n",
       "              enable_categorical=False, eval_metric='auc', feature_types=None,\n",
       "              gamma=None, grow_policy=None, importance_type=None,\n",
       "              interaction_constraints=None, learning_rate=0.1, max_bin=None,\n",
       "              max_cat_threshold=None, max_cat_to_onehot=None,\n",
       "              max_delta_step=None, max_depth=None, max_leaves=None,\n",
       "              min_child_weight=None, missing=nan, monotone_constraints=None,\n",
       "              multi_strategy=None, n_estimators=None, n_jobs=None, nthread=4, ...)"
      ]
     },
     "execution_count": 10,
     "metadata": {},
     "output_type": "execute_result"
    }
   ],
   "source": [
    "import xgboost as xgb\n",
    "\n",
    "# Initialize the XGBoost model\n",
    "model=xgb.XGBClassifier(booster='gbtree', learning_rate=0.1, alpha=0, scale_pos_weight=1, eval_metric='auc', nthread=4, random_state=7)\n",
    "\n",
    "# Train the model\n",
    "model.fit(x_train, y_train)"
   ]
  },
  {
   "cell_type": "code",
   "execution_count": 11,
   "id": "853bd5b6-05c8-47b0-b6a7-097a002bfb07",
   "metadata": {},
   "outputs": [
    {
     "name": "stdout",
     "output_type": "stream",
     "text": [
      "Accuracy: 0.8961306547889586\n",
      "              precision    recall  f1-score   support\n",
      "\n",
      "           0       0.80      0.44      0.57      5134\n",
      "           1       0.91      0.98      0.94     27869\n",
      "\n",
      "    accuracy                           0.90     33003\n",
      "   macro avg       0.85      0.71      0.76     33003\n",
      "weighted avg       0.89      0.90      0.88     33003\n",
      "\n"
     ]
    }
   ],
   "source": [
    "from sklearn.metrics import accuracy_score, classification_report, confusion_matrix\n",
    "\n",
    "# Predict the labels for the test set\n",
    "y_pred=model.predict(x_test)\n",
    "\n",
    "# Calculate accuracy\n",
    "accuracy=accuracy_score(y_test, y_pred)\n",
    "print(f'Accuracy: {accuracy}')\n",
    "\n",
    "# Print classification report\n",
    "print(classification_report(y_test, y_pred))"
   ]
  },
  {
   "cell_type": "code",
   "execution_count": 12,
   "id": "3e0b7e2c-ec27-4729-8a82-a005ad051479",
   "metadata": {},
   "outputs": [
    {
     "name": "stdout",
     "output_type": "stream",
     "text": [
      "[1 1 1 ... 1 1 0]\n"
     ]
    }
   ],
   "source": [
    "print(y_pred)"
   ]
  },
  {
   "cell_type": "code",
   "execution_count": 13,
   "id": "2e9f3840-7e23-4983-94be-9115de92a166",
   "metadata": {},
   "outputs": [],
   "source": [
    "import matplotlib.pyplot as plt\n",
    "import seaborn as sns"
   ]
  },
  {
   "cell_type": "code",
   "execution_count": 14,
   "id": "ab580494-0b75-4c2e-8648-4fb8877cd38d",
   "metadata": {},
   "outputs": [
    {
     "name": "stdout",
     "output_type": "stream",
     "text": [
      "[[ 2268  2866]\n",
      " [  562 27307]]\n"
     ]
    },
    {
     "data": {
      "image/png": "[encoded data removed]",
      "text/plain": [
       "<Figure size 800x600 with 2 Axes>"
      ]
     },
     "metadata": {},
     "output_type": "display_data"
    }
   ],
   "source": [
    "# Predict on the test data\n",
    "y_pred = model.predict(x_test)\n",
    "\n",
    "# Confusion Matrix\n",
    "conf_matrix = confusion_matrix(y_test, y_pred)\n",
    "print(conf_matrix)\n",
    "\n",
    "plt.figure(figsize=(8, 6))\n",
    "sns.heatmap(conf_matrix, annot=True, fmt='d', cmap='Blues', xticklabels=['Negative', 'Positive'], yticklabels=['Negative', 'Positive'])\n",
    "plt.xlabel('Predicted')\n",
    "plt.ylabel('Actual')\n",
    "plt.title('Confusion Matrix')\n",
    "plt.show()"
   ]
  },
  {
   "cell_type": "markdown",
   "id": "329d1918-b649-47db-ad24-f8e051f565ce",
   "metadata": {},
   "source": [
    "True Negatives (TN): 2268\n",
    "These are the instances where the actual class was Negative, and the model correctly predicted them as Negative.\n",
    "\n",
    "False Positives (FP): 2866\n",
    "These are the instances where the actual class was Negative, but the model incorrectly predicted them as Positive.\n",
    "\n",
    "False Negatives (FN): 562\n",
    "These are the instances where the actual class was Positive, but the model incorrectly predicted them as Negative.\n",
    "\n",
    "True Positives (TP): 27307\n",
    "These are the instances where the actual class was Positive, and the model correctly predicted them as Positive."
   ]
  },
  {
   "cell_type": "code",
   "execution_count": 15,
   "id": "a997badd-d60b-4436-9f22-10009d38a39f",
   "metadata": {},
   "outputs": [
    {
     "name": "stdout",
     "output_type": "stream",
     "text": [
      "Misclassified examples: 3428\n",
      "[ 0 39 86 77 65 56 74  3 96 17 19 75 27 89 40 45 12 16  9 94 76 38 83 24\n",
      " 95 59 10 61 36 50 85 57 70  6 44 37 72 64 81  5 47 35 82 68 99  8 11 66\n",
      " 88 14 30 79 49 32 51 73 91 42 55 48 60 92 67 21 15 98 23 25 93 43 62 29\n",
      " 52 28  1 31 84  2 33 71 41 58 26 78 87 13  4 53 97 18 63 90 20 34 69  7\n",
      " 80 22 46 54]\n",
      "True labels of misclassified examples: [1 1 0 ... 0 0 0]\n",
      "Predictions of misclassified examples: [0 0 1 ... 1 1 1]\n"
     ]
    }
   ],
   "source": [
    "# Step 4: Error Analysis\n",
    "# Identify misclassified examples\n",
    "misclassified = x_test[(y_test.values.flatten() != y_pred)]\n",
    "\n",
    "print(f'Misclassified examples: {len(misclassified)}')\n",
    "# Analyze a few misclassified examples\n",
    "print(misclassified.argsort()[-10])\n",
    "\n",
    "# Display the corresponding true labels and predictions\n",
    "print(f'True labels of misclassified examples: {y_test[(y_test.values.flatten() != y_pred)].values.flatten()}')\n",
    "print(f'Predictions of misclassified examples: {y_pred[(y_test.values.flatten() != y_pred)]}')"
   ]
  },
  {
   "cell_type": "code",
   "execution_count": 16,
   "id": "651786c1-7bb2-4a19-bd21-b329126adfe8",
   "metadata": {},
   "outputs": [
    {
     "name": "stdout",
     "output_type": "stream",
     "text": [
      "Training Class Distribution:\n",
      " 1    0.851018\n",
      "0    0.148982\n",
      "Name: Rate, dtype: float64\n",
      "Test Class Distribution:\n",
      " 1    0.844438\n",
      "0    0.155562\n",
      "Name: Rate, dtype: float64\n"
     ]
    }
   ],
   "source": [
    "# Check class distribution in training data\n",
    "train_class_distribution = y_train.value_counts(normalize=True)\n",
    "print(\"Training Class Distribution:\\n\", train_class_distribution)\n",
    "\n",
    "# Check class distribution in test data\n",
    "test_class_distribution = y_test.value_counts(normalize=True)\n",
    "print(\"Test Class Distribution:\\n\", test_class_distribution)"
   ]
  },
  {
   "cell_type": "code",
   "execution_count": null,
   "id": "5e160445-ef90-4d71-98a7-b93775fa2585",
   "metadata": {},
   "outputs": [],
   "source": []
  }
 ],
 "metadata": {
  "kernelspec": {
   "display_name": "Python 3 (ipykernel)",
   "language": "python",
   "name": "python3"
  },
  "language_info": {
   "codemirror_mode": {
    "name": "ipython",
    "version": 3
   },
   "file_extension": ".py",
   "mimetype": "text/x-python",
   "name": "python",
   "nbconvert_exporter": "python",
   "pygments_lexer": "ipython3",
   "version": "3.11.7"
  }
 },
 "nbformat": 4,
 "nbformat_minor": 5
}
