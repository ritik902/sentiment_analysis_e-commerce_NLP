{
 "cells": [
  {
   "cell_type": "code",
   "execution_count": 1,
   "id": "e2e1e88b-425f-47b2-8d9f-0390f0b7d520",
   "metadata": {},
   "outputs": [],
   "source": [
    "import pandas as pd\n",
    "import numpy as np"
   ]
  },
  {
   "cell_type": "code",
   "execution_count": 2,
   "id": "bafdaa2c-832c-4931-8912-ce1b7b702432",
   "metadata": {},
   "outputs": [],
   "source": [
    "df=pd.read_csv(\"flipkart_product_cleaned_final_sentiment.csv\")"
   ]
  },
  {
   "cell_type": "code",
   "execution_count": 3,
   "id": "fcae7780-a142-4bea-a27b-b9ac56663b6c",
   "metadata": {},
   "outputs": [
    {
     "data": {
      "text/html": [
       "<div>\n",
       "<style scoped>\n",
       "    .dataframe tbody tr th:only-of-type {\n",
       "        vertical-align: middle;\n",
       "    }\n",
       "\n",
       "    .dataframe tbody tr th {\n",
       "        vertical-align: top;\n",
       "    }\n",
       "\n",
       "    .dataframe thead th {\n",
       "        text-align: right;\n",
       "    }\n",
       "</style>\n",
       "<table border=\"1\" class=\"dataframe\">\n",
       "  <thead>\n",
       "    <tr style=\"text-align: right;\">\n",
       "      <th></th>\n",
       "      <th>ProductName</th>\n",
       "      <th>Price</th>\n",
       "      <th>Rate</th>\n",
       "      <th>Review</th>\n",
       "      <th>Summary</th>\n",
       "      <th>sentiment</th>\n",
       "    </tr>\n",
       "  </thead>\n",
       "  <tbody>\n",
       "    <tr>\n",
       "      <th>0</th>\n",
       "      <td>Candes 12 L Room/Personal Air Cooler?ÿ?ÿ(White...</td>\n",
       "      <td>3999</td>\n",
       "      <td>1</td>\n",
       "      <td>super !</td>\n",
       "      <td>great cooler excel air flow price amaz unbelie...</td>\n",
       "      <td>0.650000</td>\n",
       "    </tr>\n",
       "    <tr>\n",
       "      <th>1</th>\n",
       "      <td>Candes 12 L Room/Personal Air Cooler?ÿ?ÿ(White...</td>\n",
       "      <td>3999</td>\n",
       "      <td>1</td>\n",
       "      <td>awesom</td>\n",
       "      <td>best budget fit cooler nice cool</td>\n",
       "      <td>0.587500</td>\n",
       "    </tr>\n",
       "    <tr>\n",
       "      <th>2</th>\n",
       "      <td>Candes 12 L Room/Personal Air Cooler?ÿ?ÿ(White...</td>\n",
       "      <td>3999</td>\n",
       "      <td>1</td>\n",
       "      <td>fair</td>\n",
       "      <td>qualiti good power air decent</td>\n",
       "      <td>0.433333</td>\n",
       "    </tr>\n",
       "    <tr>\n",
       "      <th>3</th>\n",
       "      <td>Candes 12 L Room/Personal Air Cooler?ÿ?ÿ(White...</td>\n",
       "      <td>3999</td>\n",
       "      <td>0</td>\n",
       "      <td>useless product</td>\n",
       "      <td>bad product fan</td>\n",
       "      <td>-0.700000</td>\n",
       "    </tr>\n",
       "    <tr>\n",
       "      <th>4</th>\n",
       "      <td>Candes 12 L Room/Personal Air Cooler?ÿ?ÿ(White...</td>\n",
       "      <td>3999</td>\n",
       "      <td>1</td>\n",
       "      <td>fair</td>\n",
       "      <td>ok ok product</td>\n",
       "      <td>0.500000</td>\n",
       "    </tr>\n",
       "  </tbody>\n",
       "</table>\n",
       "</div>"
      ],
      "text/plain": [
       "                                         ProductName  Price  Rate  \\\n",
       "0  Candes 12 L Room/Personal Air Cooler?ÿ?ÿ(White...   3999     1   \n",
       "1  Candes 12 L Room/Personal Air Cooler?ÿ?ÿ(White...   3999     1   \n",
       "2  Candes 12 L Room/Personal Air Cooler?ÿ?ÿ(White...   3999     1   \n",
       "3  Candes 12 L Room/Personal Air Cooler?ÿ?ÿ(White...   3999     0   \n",
       "4  Candes 12 L Room/Personal Air Cooler?ÿ?ÿ(White...   3999     1   \n",
       "\n",
       "            Review                                            Summary  \\\n",
       "0          super !  great cooler excel air flow price amaz unbelie...   \n",
       "1           awesom                   best budget fit cooler nice cool   \n",
       "2             fair                      qualiti good power air decent   \n",
       "3  useless product                                    bad product fan   \n",
       "4             fair                                      ok ok product   \n",
       "\n",
       "   sentiment  \n",
       "0   0.650000  \n",
       "1   0.587500  \n",
       "2   0.433333  \n",
       "3  -0.700000  \n",
       "4   0.500000  "
      ]
     },
     "execution_count": 3,
     "metadata": {},
     "output_type": "execute_result"
    }
   ],
   "source": [
    "df.head()"
   ]
  },
  {
   "cell_type": "code",
   "execution_count": 4,
   "id": "2161a4ad-8b6e-464d-9c2f-5f58c9057233",
   "metadata": {},
   "outputs": [],
   "source": [
    "df.loc[df['Summary'].isna(), 'Summary'] = ''  # Replace NaN values in the Summary column with an empty string text using loc."
   ]
  },
  {
   "cell_type": "code",
   "execution_count": 5,
   "id": "4c310ecf-d7bc-4c6b-877c-64ec534cf32b",
   "metadata": {},
   "outputs": [],
   "source": [
    "from sklearn.model_selection import train_test_split\n",
    "from sklearn.feature_extraction.text import TfidfVectorizer"
   ]
  },
  {
   "cell_type": "code",
   "execution_count": 6,
   "id": "2b28a476-ddd5-42c4-b09e-1d9f34c97a2a",
   "metadata": {},
   "outputs": [],
   "source": [
    "x_train, x_test, y_train, y_test = train_test_split(df['Summary'], df['Rate'], test_size=0.2, random_state=7)"
   ]
  },
  {
   "cell_type": "code",
   "execution_count": 7,
   "id": "eddab659-1798-41f9-9d26-fc0a069316b9",
   "metadata": {},
   "outputs": [],
   "source": [
    "# Convert text data to TF-IDF features for traditional ML models\n",
    "vectorizer = TfidfVectorizer()\n",
    "x_train_tfidf = vectorizer.fit_transform(x_train)\n",
    "x_test_tfidf = vectorizer.transform(x_test)"
   ]
  },
  {
   "cell_type": "code",
   "execution_count": null,
   "id": "c780caa3-e878-4773-8246-ee7fc23da5c7",
   "metadata": {},
   "outputs": [],
   "source": [
    "import xgboost as xgb\n",
    "\n",
    "# Initialize the XGBoost model\n",
    "model=xgb.XGBClassifier(booster='dart', learning_rate=0.1, alpha=2, scale_pos_weight=2, eval_metric='auc', nthread=10, random_state=7)\n",
    "\n",
    "# Train the model\n",
    "model.fit(x_train_tfidf, y_train)"
   ]
  },
  {
   "cell_type": "code",
   "execution_count": null,
   "id": "853bd5b6-05c8-47b0-b6a7-097a002bfb07",
   "metadata": {},
   "outputs": [],
   "source": [
    "from sklearn.metrics import accuracy_score, classification_report, confusion_matrix\n",
    "\n",
    "# Predict the labels for the test set\n",
    "y_pred=model.predict(x_test_tfidf)\n",
    "\n",
    "# Calculate accuracy\n",
    "accuracy=accuracy_score(y_test, y_pred)\n",
    "print(f'Accuracy: {accuracy}')\n",
    "\n",
    "# Print classification report\n",
    "print(classification_report(y_test, y_pred))"
   ]
  },
  {
   "cell_type": "code",
   "execution_count": null,
   "id": "3e0b7e2c-ec27-4729-8a82-a005ad051479",
   "metadata": {},
   "outputs": [],
   "source": [
    "print(y_pred)"
   ]
  },
  {
   "cell_type": "code",
   "execution_count": null,
   "id": "2e9f3840-7e23-4983-94be-9115de92a166",
   "metadata": {},
   "outputs": [],
   "source": [
    "import matplotlib.pyplot as plt\n",
    "import seaborn as sns"
   ]
  },
  {
   "cell_type": "code",
   "execution_count": null,
   "id": "ab580494-0b75-4c2e-8648-4fb8877cd38d",
   "metadata": {},
   "outputs": [],
   "source": [
    "# Predict on the test data\n",
    "y_pred = model.predict(x_test_tfidf)\n",
    "\n",
    "# Confusion Matrix\n",
    "conf_matrix = confusion_matrix(y_test, y_pred)\n",
    "print(conf_matrix)\n",
    "\n",
    "plt.figure(figsize=(8, 6))\n",
    "sns.heatmap(conf_matrix, annot=True, fmt='d', cmap='Blues', xticklabels=['Negative', 'Positive'], yticklabels=['Negative', 'Positive'])\n",
    "plt.xlabel('Predicted')\n",
    "plt.ylabel('Actual')\n",
    "plt.title('Confusion Matrix')\n",
    "plt.show()"
   ]
  },
  {
   "cell_type": "markdown",
   "id": "329d1918-b649-47db-ad24-f8e051f565ce",
   "metadata": {},
   "source": [
    "True Negatives (TN): 2770\n",
    "These are the instances where the actual class was Negative, and the model correctly predicted them as Negative.\n",
    "\n",
    "False Positives (FP): 2364\n",
    "These are the instances where the actual class was Negative, but the model incorrectly predicted them as Positive.\n",
    "\n",
    "False Negatives (FN): 383\n",
    "These are the instances where the actual class was Positive, but the model incorrectly predicted them as Negative.\n",
    "\n",
    "True Positives (TP): 27486\n",
    "These are the instances where the actual class was Positive, and the model correctly predicted them as Positive."
   ]
  },
  {
   "cell_type": "code",
   "execution_count": null,
   "id": "651786c1-7bb2-4a19-bd21-b329126adfe8",
   "metadata": {},
   "outputs": [],
   "source": [
    "# Check class distribution in training data\n",
    "train_class_distribution = y_train.value_counts(normalize=True)\n",
    "print(\"Training Class Distribution:\\n\", train_class_distribution)\n",
    "\n",
    "# Check class distribution in test data\n",
    "test_class_distribution = y_test.value_counts(normalize=True)\n",
    "print(\"Test Class Distribution:\\n\", test_class_distribution)"
   ]
  },
  {
   "cell_type": "code",
   "execution_count": null,
   "id": "5e160445-ef90-4d71-98a7-b93775fa2585",
   "metadata": {},
   "outputs": [],
   "source": []
  }
 ],
 "metadata": {
  "kernelspec": {
   "display_name": "Python 3 (ipykernel)",
   "language": "python",
   "name": "python3"
  },
  "language_info": {
   "codemirror_mode": {
    "name": "ipython",
    "version": 3
   },
   "file_extension": ".py",
   "mimetype": "text/x-python",
   "name": "python",
   "nbconvert_exporter": "python",
   "pygments_lexer": "ipython3",
   "version": "3.11.7"
  }
 },
 "nbformat": 4,
 "nbformat_minor": 5
}
