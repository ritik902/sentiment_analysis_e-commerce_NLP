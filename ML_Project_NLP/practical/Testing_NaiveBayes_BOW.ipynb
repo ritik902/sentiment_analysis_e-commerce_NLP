{
 "cells": [
  {
   "cell_type": "code",
   "execution_count": 1,
   "id": "e2e1e88b-425f-47b2-8d9f-0390f0b7d520",
   "metadata": {},
   "outputs": [],
   "source": [
    "import pandas as pd\n",
    "import numpy as np"
   ]
  },
  {
   "cell_type": "code",
   "execution_count": 2,
   "id": "bafdaa2c-832c-4931-8912-ce1b7b702432",
   "metadata": {},
   "outputs": [],
   "source": [
    "df=pd.read_csv(\"flipkart_product_cleaned_final_sentiment.csv\")"
   ]
  },
  {
   "cell_type": "code",
   "execution_count": 3,
   "id": "fcae7780-a142-4bea-a27b-b9ac56663b6c",
   "metadata": {},
   "outputs": [
    {
     "data": {
      "text/html": [
       "<div>\n",
       "<style scoped>\n",
       "    .dataframe tbody tr th:only-of-type {\n",
       "        vertical-align: middle;\n",
       "    }\n",
       "\n",
       "    .dataframe tbody tr th {\n",
       "        vertical-align: top;\n",
       "    }\n",
       "\n",
       "    .dataframe thead th {\n",
       "        text-align: right;\n",
       "    }\n",
       "</style>\n",
       "<table border=\"1\" class=\"dataframe\">\n",
       "  <thead>\n",
       "    <tr style=\"text-align: right;\">\n",
       "      <th></th>\n",
       "      <th>ProductName</th>\n",
       "      <th>Price</th>\n",
       "      <th>Rate</th>\n",
       "      <th>Review</th>\n",
       "      <th>Summary</th>\n",
       "      <th>sentiment</th>\n",
       "    </tr>\n",
       "  </thead>\n",
       "  <tbody>\n",
       "    <tr>\n",
       "      <th>0</th>\n",
       "      <td>Candes 12 L Room/Personal Air Cooler?ÿ?ÿ(White...</td>\n",
       "      <td>3999</td>\n",
       "      <td>1</td>\n",
       "      <td>super !</td>\n",
       "      <td>great cooler excel air flow price amaz unbelie...</td>\n",
       "      <td>0.650000</td>\n",
       "    </tr>\n",
       "    <tr>\n",
       "      <th>1</th>\n",
       "      <td>Candes 12 L Room/Personal Air Cooler?ÿ?ÿ(White...</td>\n",
       "      <td>3999</td>\n",
       "      <td>1</td>\n",
       "      <td>awesom</td>\n",
       "      <td>best budget fit cooler nice cool</td>\n",
       "      <td>0.587500</td>\n",
       "    </tr>\n",
       "    <tr>\n",
       "      <th>2</th>\n",
       "      <td>Candes 12 L Room/Personal Air Cooler?ÿ?ÿ(White...</td>\n",
       "      <td>3999</td>\n",
       "      <td>1</td>\n",
       "      <td>fair</td>\n",
       "      <td>qualiti good power air decent</td>\n",
       "      <td>0.433333</td>\n",
       "    </tr>\n",
       "    <tr>\n",
       "      <th>3</th>\n",
       "      <td>Candes 12 L Room/Personal Air Cooler?ÿ?ÿ(White...</td>\n",
       "      <td>3999</td>\n",
       "      <td>0</td>\n",
       "      <td>useless product</td>\n",
       "      <td>bad product fan</td>\n",
       "      <td>-0.700000</td>\n",
       "    </tr>\n",
       "    <tr>\n",
       "      <th>4</th>\n",
       "      <td>Candes 12 L Room/Personal Air Cooler?ÿ?ÿ(White...</td>\n",
       "      <td>3999</td>\n",
       "      <td>1</td>\n",
       "      <td>fair</td>\n",
       "      <td>ok ok product</td>\n",
       "      <td>0.500000</td>\n",
       "    </tr>\n",
       "  </tbody>\n",
       "</table>\n",
       "</div>"
      ],
      "text/plain": [
       "                                         ProductName  Price  Rate  \\\n",
       "0  Candes 12 L Room/Personal Air Cooler?ÿ?ÿ(White...   3999     1   \n",
       "1  Candes 12 L Room/Personal Air Cooler?ÿ?ÿ(White...   3999     1   \n",
       "2  Candes 12 L Room/Personal Air Cooler?ÿ?ÿ(White...   3999     1   \n",
       "3  Candes 12 L Room/Personal Air Cooler?ÿ?ÿ(White...   3999     0   \n",
       "4  Candes 12 L Room/Personal Air Cooler?ÿ?ÿ(White...   3999     1   \n",
       "\n",
       "            Review                                            Summary  \\\n",
       "0          super !  great cooler excel air flow price amaz unbelie...   \n",
       "1           awesom                   best budget fit cooler nice cool   \n",
       "2             fair                      qualiti good power air decent   \n",
       "3  useless product                                    bad product fan   \n",
       "4             fair                                      ok ok product   \n",
       "\n",
       "   sentiment  \n",
       "0   0.650000  \n",
       "1   0.587500  \n",
       "2   0.433333  \n",
       "3  -0.700000  \n",
       "4   0.500000  "
      ]
     },
     "execution_count": 3,
     "metadata": {},
     "output_type": "execute_result"
    }
   ],
   "source": [
    "df.head()"
   ]
  },
  {
   "cell_type": "code",
   "execution_count": 4,
   "id": "5bd63ed1-3cab-419b-ab5c-110fa1f7e052",
   "metadata": {},
   "outputs": [
    {
     "data": {
      "text/plain": [
       "[('great cooler excel air flow price amaz unbelievablejust love', 1),\n",
       " ('best budget fit cooler nice cool', 1),\n",
       " ('qualiti good power air decent', 1),\n",
       " ('bad product fan', 0),\n",
       " ('ok ok product', 1),\n",
       " ('cooler realli fantast provid good air flow highli recommend', 1),\n",
       " ('good product', 1),\n",
       " ('nice', 1),\n",
       " ('bad cooler', 0),\n",
       " ('good', 1)]"
      ]
     },
     "execution_count": 4,
     "metadata": {},
     "output_type": "execute_result"
    }
   ],
   "source": [
    "d=dict(zip(df['Summary'], df['Rate']))\n",
    "list(d.items())[0:10]"
   ]
  },
  {
   "cell_type": "markdown",
   "id": "91e77479-179b-4334-baf3-5a68d4ef1a9e",
   "metadata": {},
   "source": [
    "Now i want my model to behave like realtime analysis"
   ]
  },
  {
   "cell_type": "code",
   "execution_count": 5,
   "id": "a44a3a26-202e-4407-aede-bc572c69f5de",
   "metadata": {},
   "outputs": [],
   "source": [
    "from sklearn.feature_extraction.text import CountVectorizer\n",
    "from sklearn.model_selection import train_test_split\n",
    "from sklearn.naive_bayes import MultinomialNB\n",
    "from sklearn.metrics import accuracy_score, classification_report, confusion_matrix"
   ]
  },
  {
   "cell_type": "code",
   "execution_count": 6,
   "id": "7b60c226-da00-4522-9636-40f5305d3e5c",
   "metadata": {},
   "outputs": [],
   "source": [
    "df.loc[df['Summary'].isna(), 'Summary'] = ''"
   ]
  },
  {
   "cell_type": "code",
   "execution_count": 7,
   "id": "5b01701e-9bcf-4274-9c49-4a25117edf22",
   "metadata": {},
   "outputs": [],
   "source": [
    "# Split the data into training and testing sets\n",
    "x_train, x_test, y_train, y_test = train_test_split(df['Summary'], df['Rate'], test_size=0.2, random_state=7)"
   ]
  },
  {
   "cell_type": "code",
   "execution_count": 8,
   "id": "2655634c-5ca2-4d9a-b9cd-ef858e4c1605",
   "metadata": {},
   "outputs": [],
   "source": [
    "# Vectorize the text data using Bag of Words\n",
    "vectorizer = CountVectorizer()\n",
    "x_train_bow = vectorizer.fit_transform(x_train)\n",
    "x_test_bow = vectorizer.transform(x_test)"
   ]
  },
  {
   "cell_type": "code",
   "execution_count": 9,
   "id": "7ce210c2-3fde-4aaa-b9af-16006fafa9d9",
   "metadata": {},
   "outputs": [
    {
     "data": {
      "text/html": [
       "<style>#sk-container-id-1 {color: black;background-color: white;}#sk-container-id-1 pre{padding: 0;}#sk-container-id-1 div.sk-toggleable {background-color: white;}#sk-container-id-1 label.sk-toggleable__label {cursor: pointer;display: block;width: 100%;margin-bottom: 0;padding: 0.3em;box-sizing: border-box;text-align: center;}#sk-container-id-1 label.sk-toggleable__label-arrow:before {content: \"▸\";float: left;margin-right: 0.25em;color: #696969;}#sk-container-id-1 label.sk-toggleable__label-arrow:hover:before {color: black;}#sk-container-id-1 div.sk-estimator:hover label.sk-toggleable__label-arrow:before {color: black;}#sk-container-id-1 div.sk-toggleable__content {max-height: 0;max-width: 0;overflow: hidden;text-align: left;background-color: #f0f8ff;}#sk-container-id-1 div.sk-toggleable__content pre {margin: 0.2em;color: black;border-radius: 0.25em;background-color: #f0f8ff;}#sk-container-id-1 input.sk-toggleable__control:checked~div.sk-toggleable__content {max-height: 200px;max-width: 100%;overflow: auto;}#sk-container-id-1 input.sk-toggleable__control:checked~label.sk-toggleable__label-arrow:before {content: \"▾\";}#sk-container-id-1 div.sk-estimator input.sk-toggleable__control:checked~label.sk-toggleable__label {background-color: #d4ebff;}#sk-container-id-1 div.sk-label input.sk-toggleable__control:checked~label.sk-toggleable__label {background-color: #d4ebff;}#sk-container-id-1 input.sk-hidden--visually {border: 0;clip: rect(1px 1px 1px 1px);clip: rect(1px, 1px, 1px, 1px);height: 1px;margin: -1px;overflow: hidden;padding: 0;position: absolute;width: 1px;}#sk-container-id-1 div.sk-estimator {font-family: monospace;background-color: #f0f8ff;border: 1px dotted black;border-radius: 0.25em;box-sizing: border-box;margin-bottom: 0.5em;}#sk-container-id-1 div.sk-estimator:hover {background-color: #d4ebff;}#sk-container-id-1 div.sk-parallel-item::after {content: \"\";width: 100%;border-bottom: 1px solid gray;flex-grow: 1;}#sk-container-id-1 div.sk-label:hover label.sk-toggleable__label {background-color: #d4ebff;}#sk-container-id-1 div.sk-serial::before {content: \"\";position: absolute;border-left: 1px solid gray;box-sizing: border-box;top: 0;bottom: 0;left: 50%;z-index: 0;}#sk-container-id-1 div.sk-serial {display: flex;flex-direction: column;align-items: center;background-color: white;padding-right: 0.2em;padding-left: 0.2em;position: relative;}#sk-container-id-1 div.sk-item {position: relative;z-index: 1;}#sk-container-id-1 div.sk-parallel {display: flex;align-items: stretch;justify-content: center;background-color: white;position: relative;}#sk-container-id-1 div.sk-item::before, #sk-container-id-1 div.sk-parallel-item::before {content: \"\";position: absolute;border-left: 1px solid gray;box-sizing: border-box;top: 0;bottom: 0;left: 50%;z-index: -1;}#sk-container-id-1 div.sk-parallel-item {display: flex;flex-direction: column;z-index: 1;position: relative;background-color: white;}#sk-container-id-1 div.sk-parallel-item:first-child::after {align-self: flex-end;width: 50%;}#sk-container-id-1 div.sk-parallel-item:last-child::after {align-self: flex-start;width: 50%;}#sk-container-id-1 div.sk-parallel-item:only-child::after {width: 0;}#sk-container-id-1 div.sk-dashed-wrapped {border: 1px dashed gray;margin: 0 0.4em 0.5em 0.4em;box-sizing: border-box;padding-bottom: 0.4em;background-color: white;}#sk-container-id-1 div.sk-label label {font-family: monospace;font-weight: bold;display: inline-block;line-height: 1.2em;}#sk-container-id-1 div.sk-label-container {text-align: center;}#sk-container-id-1 div.sk-container {/* jupyter's `normalize.less` sets `[hidden] { display: none; }` but bootstrap.min.css set `[hidden] { display: none !important; }` so we also need the `!important` here to be able to override the default hidden behavior on the sphinx rendered scikit-learn.org. See: https://github.com/scikit-learn/scikit-learn/issues/21755 */display: inline-block !important;position: relative;}#sk-container-id-1 div.sk-text-repr-fallback {display: none;}</style><div id=\"sk-container-id-1\" class=\"sk-top-container\"><div class=\"sk-text-repr-fallback\"><pre>MultinomialNB()</pre><b>In a Jupyter environment, please rerun this cell to show the HTML representation or trust the notebook. <br />On GitHub, the HTML representation is unable to render, please try loading this page with nbviewer.org.</b></div><div class=\"sk-container\" hidden><div class=\"sk-item\"><div class=\"sk-estimator sk-toggleable\"><input class=\"sk-toggleable__control sk-hidden--visually\" id=\"sk-estimator-id-1\" type=\"checkbox\" checked><label for=\"sk-estimator-id-1\" class=\"sk-toggleable__label sk-toggleable__label-arrow\">MultinomialNB</label><div class=\"sk-toggleable__content\"><pre>MultinomialNB()</pre></div></div></div></div></div>"
      ],
      "text/plain": [
       "MultinomialNB()"
      ]
     },
     "execution_count": 9,
     "metadata": {},
     "output_type": "execute_result"
    }
   ],
   "source": [
    "# Train a Naive Bayes model\n",
    "nb_model = MultinomialNB()\n",
    "nb_model.fit(x_train_bow, y_train)"
   ]
  },
  {
   "cell_type": "code",
   "execution_count": 10,
   "id": "336e68a9-2122-48c9-b2fa-e27947ba09c0",
   "metadata": {},
   "outputs": [],
   "source": [
    "# Make predictions\n",
    "nb_y_pred = nb_model.predict(x_test_bow)"
   ]
  },
  {
   "cell_type": "code",
   "execution_count": 11,
   "id": "9be338a9-0689-4c00-9a55-5d34700007b6",
   "metadata": {},
   "outputs": [
    {
     "name": "stdout",
     "output_type": "stream",
     "text": [
      "Naive Bayes Accuracy: 0.9241887101172621\n",
      "Classification Report:\n",
      "              precision    recall  f1-score   support\n",
      "\n",
      "           0       0.84      0.63      0.72      5134\n",
      "           1       0.94      0.98      0.96     27869\n",
      "\n",
      "    accuracy                           0.92     33003\n",
      "   macro avg       0.89      0.80      0.84     33003\n",
      "weighted avg       0.92      0.92      0.92     33003\n",
      "\n",
      "Confusion Matrix:\n",
      "[[ 3244  1890]\n",
      " [  612 27257]]\n"
     ]
    }
   ],
   "source": [
    "# Evaluate the model\n",
    "accuracy = accuracy_score(y_test, nb_y_pred)\n",
    "report = classification_report(y_test, nb_y_pred)\n",
    "conf_matrix = confusion_matrix(y_test, nb_y_pred)\n",
    "\n",
    "print(f'Naive Bayes Accuracy: {accuracy}')\n",
    "print(f'Classification Report:\\n{report}')\n",
    "print(f'Confusion Matrix:\\n{conf_matrix}')"
   ]
  },
  {
   "cell_type": "code",
   "execution_count": null,
   "id": "fe728491-a98f-4226-85b0-801ce9ab6af0",
   "metadata": {},
   "outputs": [],
   "source": []
  }
 ],
 "metadata": {
  "kernelspec": {
   "display_name": "Python 3 (ipykernel)",
   "language": "python",
   "name": "python3"
  },
  "language_info": {
   "codemirror_mode": {
    "name": "ipython",
    "version": 3
   },
   "file_extension": ".py",
   "mimetype": "text/x-python",
   "name": "python",
   "nbconvert_exporter": "python",
   "pygments_lexer": "ipython3",
   "version": "3.11.7"
  }
 },
 "nbformat": 4,
 "nbformat_minor": 5
}
